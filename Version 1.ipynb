{
 "cells": [
  {
   "cell_type": "code",
   "execution_count": 1,
   "metadata": {
    "colab": {},
    "colab_type": "code",
    "id": "C3pNLzYAQzQh"
   },
   "outputs": [],
   "source": [
    "# importing required libraries\n",
    "import pandas as pd\n",
    "import numpy as np\n",
    "import matplotlib.pyplot as plt\n",
    "import seaborn as sns\n",
    "import os\n",
    "from sklearn.model_selection import train_test_split\n",
    "from sklearn.preprocessing import LabelEncoder\n",
    "from sklearn.metrics import roc_auc_score,accuracy_score,classification_report,f1_score,recall_score,precision_score\n",
    "from sklearn.metrics import roc_curve\n",
    "import joblib\n",
    "from collections import OrderedDict\n",
    "from sklearn.model_selection import GridSearchCV,RandomizedSearchCV\n",
    "from lightgbm import LGBMClassifier\n",
    "from fancyimpute import IterativeImputer"
   ]
  },
  {
   "cell_type": "code",
   "execution_count": 2,
   "metadata": {
    "colab": {},
    "colab_type": "code",
    "id": "vrMWgAGXQzQk",
    "scrolled": true
   },
   "outputs": [],
   "source": [
    "# import the main file of the data\n",
    "data=pd.read_csv(\"application_train.csv\")"
   ]
  },
  {
   "cell_type": "code",
   "execution_count": 3,
   "metadata": {},
   "outputs": [],
   "source": [
    "# storing the IDs of the appication for later use\n",
    "SK_ID_CURR_train=data.SK_ID_CURR"
   ]
  },
  {
   "cell_type": "code",
   "execution_count": 4,
   "metadata": {},
   "outputs": [],
   "source": [
    "# Dropping the IDs\n",
    "data.drop(\"SK_ID_CURR\",axis=1,inplace=True)"
   ]
  },
  {
   "cell_type": "code",
   "execution_count": 5,
   "metadata": {
    "colab": {},
    "colab_type": "code",
    "id": "EM3_tNgmQzQs",
    "scrolled": true
   },
   "outputs": [],
   "source": [
    "# Dropping the columns having more than 50% missing values\n",
    "columns_drop=[i for i in data.columns if (sum(data[i].isna())/len(data)*100>50)]"
   ]
  },
  {
   "cell_type": "code",
   "execution_count": 6,
   "metadata": {
    "colab": {},
    "colab_type": "code",
    "id": "sX0gv9D_QzQv"
   },
   "outputs": [],
   "source": [
    "# drops the column\n",
    "data.drop(columns_drop,inplace=True,axis=1)"
   ]
  },
  {
   "cell_type": "code",
   "execution_count": 8,
   "metadata": {
    "colab": {
     "base_uri": "https://localhost:8080/",
     "height": 218
    },
    "colab_type": "code",
    "id": "Br12VmifQzQ6",
    "outputId": "c24c378c-76be-4049-c136-4eacbe62b7ce"
   },
   "outputs": [
    {
     "data": {
      "text/plain": [
       "Index(['AMT_ANNUITY', 'AMT_GOODS_PRICE', 'NAME_TYPE_SUITE', 'OCCUPATION_TYPE',\n",
       "       'CNT_FAM_MEMBERS', 'EXT_SOURCE_2', 'EXT_SOURCE_3',\n",
       "       'YEARS_BEGINEXPLUATATION_AVG', 'FLOORSMAX_AVG',\n",
       "       'YEARS_BEGINEXPLUATATION_MODE', 'FLOORSMAX_MODE',\n",
       "       'YEARS_BEGINEXPLUATATION_MEDI', 'FLOORSMAX_MEDI', 'TOTALAREA_MODE',\n",
       "       'EMERGENCYSTATE_MODE', 'OBS_30_CNT_SOCIAL_CIRCLE',\n",
       "       'DEF_30_CNT_SOCIAL_CIRCLE', 'OBS_60_CNT_SOCIAL_CIRCLE',\n",
       "       'DEF_60_CNT_SOCIAL_CIRCLE', 'DAYS_LAST_PHONE_CHANGE',\n",
       "       'AMT_REQ_CREDIT_BUREAU_HOUR', 'AMT_REQ_CREDIT_BUREAU_DAY',\n",
       "       'AMT_REQ_CREDIT_BUREAU_WEEK', 'AMT_REQ_CREDIT_BUREAU_MON',\n",
       "       'AMT_REQ_CREDIT_BUREAU_QRT', 'AMT_REQ_CREDIT_BUREAU_YEAR'],\n",
       "      dtype='object')"
      ]
     },
     "execution_count": 8,
     "metadata": {},
     "output_type": "execute_result"
    }
   ],
   "source": [
    "# columns which have \n",
    "data.columns[data.isna().sum()>0]"
   ]
  },
  {
   "cell_type": "code",
   "execution_count": 9,
   "metadata": {
    "colab": {
     "base_uri": "https://localhost:8080/",
     "height": 298
    },
    "colab_type": "code",
    "id": "gH63jROYQzQ8",
    "outputId": "6482e944-580a-4671-d9bb-52e7714ef88c",
    "scrolled": true
   },
   "outputs": [
    {
     "name": "stdout",
     "output_type": "stream",
     "text": [
      "Median: 0.05\n",
      "Mean: 0.05369499993495117\n"
     ]
    },
    {
     "data": {
      "image/png": "[encoded data removed]",
      "text/plain": [
       "<matplotlib.figure.Figure at 0x1fc5f481518>"
      ]
     },
     "metadata": {},
     "output_type": "display_data"
    }
   ],
   "source": [
    "# Calculating the median and mean values for the ratio of amount annuity and amount credit column\n",
    "print(\"Median:\",(data[data.AMT_ANNUITY.notna()].AMT_ANNUITY/data[data.AMT_ANNUITY.notna()].AMT_CREDIT).median())\n",
    "print(\"Mean:\",(data[data.AMT_ANNUITY.notna()].AMT_ANNUITY/data[data.AMT_ANNUITY.notna()].AMT_CREDIT).mean())\n",
    "plt.hist(data[data.AMT_ANNUITY.notna()].AMT_ANNUITY/data[data.AMT_ANNUITY.notna()].AMT_CREDIT);"
   ]
  },
  {
   "cell_type": "code",
   "execution_count": 10,
   "metadata": {
    "colab": {},
    "colab_type": "code",
    "id": "0iw5ZGUvQzQ_"
   },
   "outputs": [],
   "source": [
    "# Replacing the missing values in amount annuity with product of amount credit median value that we got above\n",
    "data.loc[data[data.AMT_ANNUITY.isna()].index,\"AMT_ANNUITY\"]=data.AMT_CREDIT*0.05"
   ]
  },
  {
   "cell_type": "code",
   "execution_count": 11,
   "metadata": {
    "colab": {
     "base_uri": "https://localhost:8080/",
     "height": 34
    },
    "colab_type": "code",
    "id": "cSeZ4-jZQzRC",
    "outputId": "1972dc91-4881-4410-8994-b48477d08354",
    "scrolled": true
   },
   "outputs": [
    {
     "data": {
      "text/plain": [
       "0.9793025718091465"
      ]
     },
     "execution_count": 11,
     "metadata": {},
     "output_type": "execute_result"
    }
   ],
   "source": [
    "# The percentage of rows of Revolving columns which have Amount Credit equal to Amount Goods Price\n",
    "len(data[(data.NAME_CONTRACT_TYPE==\"Revolving loans\") & (data.AMT_CREDIT==data.AMT_GOODS_PRICE)])/len(data[data.NAME_CONTRACT_TYPE==\"Revolving loans\"])"
   ]
  },
  {
   "cell_type": "code",
   "execution_count": 12,
   "metadata": {
    "colab": {},
    "colab_type": "code",
    "id": "IaBEw8l_QzRE",
    "scrolled": true
   },
   "outputs": [],
   "source": [
    "# As in 97 % rows the amount credit is equal to amount goods price in revolving loans, we replace the missing values in \n",
    "# Amounts goods price with amount credit\n",
    "data.loc[data[data.AMT_GOODS_PRICE.isna()].index,\"AMT_GOODS_PRICE\"]=data.loc[data[data.AMT_GOODS_PRICE.isna()].index,\"AMT_CREDIT\"]"
   ]
  },
  {
   "cell_type": "code",
   "execution_count": 13,
   "metadata": {
    "colab": {},
    "colab_type": "code",
    "id": "INUqwKl4QzRG",
    "scrolled": true
   },
   "outputs": [],
   "source": [
    "# Filling the Name Type Suite with the mode value\n",
    "data[\"NAME_TYPE_SUITE\"].fillna(\"Unaccompanied\",inplace=True,axis=0)"
   ]
  },
  {
   "cell_type": "code",
   "execution_count": 14,
   "metadata": {
    "colab": {},
    "colab_type": "code",
    "id": "ke_t0JPwQzRK"
   },
   "outputs": [],
   "source": [
    "# Converting the days birth into positive years from negative days\n",
    "data.DAYS_BIRTH=data.DAYS_BIRTH*-1/365"
   ]
  },
  {
   "cell_type": "code",
   "execution_count": 15,
   "metadata": {
    "colab": {
     "base_uri": "https://localhost:8080/",
     "height": 297
    },
    "colab_type": "code",
    "id": "musGHx6KQzRM",
    "outputId": "1c2e0efb-3eb8-4f75-b1f2-a0cac5a42c03",
    "scrolled": true
   },
   "outputs": [
    {
     "data": {
      "text/plain": [
       "<matplotlib.axes._subplots.AxesSubplot at 0x1fc5f4f77f0>"
      ]
     },
     "execution_count": 15,
     "metadata": {},
     "output_type": "execute_result"
    },
    {
     "data": {
      "image/png": "[encoded data removed]",
      "text/plain": [
       "<matplotlib.figure.Figure at 0x1fc5f4d5160>"
      ]
     },
     "metadata": {},
     "output_type": "display_data"
    }
   ],
   "source": [
    "# KDE plot of days birth for target 0 and 1\n",
    "sns.distplot(data[data.TARGET==1].DAYS_BIRTH,hist=False)\n",
    "sns.distplot(data[data.TARGET==0].DAYS_BIRTH,hist=False)"
   ]
  },
  {
   "cell_type": "code",
   "execution_count": 16,
   "metadata": {
    "colab": {},
    "colab_type": "code",
    "id": "UIFEGFu7QzRO"
   },
   "outputs": [],
   "source": [
    "# making bins for Days Birth\n",
    "data['DAYS_BIRTH'] = pd.cut(data['DAYS_BIRTH'], bins = np.linspace(20, 70, num = 11))"
   ]
  },
  {
   "cell_type": "code",
   "execution_count": 17,
   "metadata": {
    "colab": {},
    "colab_type": "code",
    "id": "Cwfcul-mQzRR"
   },
   "outputs": [],
   "source": [
    "# Filling the column with mode values\n",
    "data.CNT_FAM_MEMBERS.fillna(value=2,inplace=True)"
   ]
  },
  {
   "cell_type": "code",
   "execution_count": 18,
   "metadata": {
    "colab": {
     "base_uri": "https://localhost:8080/",
     "height": 298
    },
    "colab_type": "code",
    "id": "_0wBUXvIQzRT",
    "outputId": "877bc5bb-d254-4a8f-fea7-f58fec025df4"
   },
   "outputs": [
    {
     "name": "stdout",
     "output_type": "stream",
     "text": [
      "Mean 0.5143926741308463\n",
      "Median 0.5659614260608526\n"
     ]
    },
    {
     "data": {
      "image/png": "[encoded data removed]",
      "text/plain": [
       "<matplotlib.figure.Figure at 0x1fc00242dd8>"
      ]
     },
     "metadata": {},
     "output_type": "display_data"
    }
   ],
   "source": [
    "# Calculating the mean and median values for EXT_SOURCE2\n",
    "print(\"Mean\",data.EXT_SOURCE_2.mean())\n",
    "print(\"Median\",data.EXT_SOURCE_2.median())\n",
    "plt.hist(data[data.EXT_SOURCE_2.notna()].EXT_SOURCE_2);"
   ]
  },
  {
   "cell_type": "code",
   "execution_count": 19,
   "metadata": {
    "colab": {},
    "colab_type": "code",
    "id": "sL8QVxGKQzRW"
   },
   "outputs": [],
   "source": [
    "# Filling tthe EXT SOURCE 2 missing values with the median\n",
    "impute_value_ext2=data.EXT_SOURCE_2.median()\n",
    "data.EXT_SOURCE_2.fillna(impute_value_ext2,inplace=True)"
   ]
  },
  {
   "cell_type": "code",
   "execution_count": 20,
   "metadata": {
    "colab": {
     "base_uri": "https://localhost:8080/",
     "height": 300
    },
    "colab_type": "code",
    "id": "zwRZXAUEQzRY",
    "outputId": "e179e707-c985-4f3b-f067-c87f3662ae75"
   },
   "outputs": [
    {
     "name": "stdout",
     "output_type": "stream",
     "text": [
      "Mean 0.5108529061800121\n",
      "Median 0.5352762504724826\n"
     ]
    },
    {
     "data": {
      "image/png": "[encoded data removed]",
      "text/plain": [
       "<matplotlib.figure.Figure at 0x1fc00246ef0>"
      ]
     },
     "metadata": {},
     "output_type": "display_data"
    }
   ],
   "source": [
    "# Calculating the mean and median values for EXT_SOURCE3\n",
    "print(\"Mean\",data.EXT_SOURCE_3.mean())\n",
    "print(\"Median\",data.EXT_SOURCE_3.median())\n",
    "plt.hist(data[data.EXT_SOURCE_3.notna()].EXT_SOURCE_3);"
   ]
  },
  {
   "cell_type": "code",
   "execution_count": 21,
   "metadata": {
    "colab": {},
    "colab_type": "code",
    "id": "8keI0fGgQzRa"
   },
   "outputs": [],
   "source": [
    "# Filling tthe EXT SOURCE 3 missing values with the median\n",
    "impute_value_ext3=data.EXT_SOURCE_3.median()\n",
    "data.EXT_SOURCE_3.fillna(impute_value_ext3,inplace=True)"
   ]
  },
  {
   "cell_type": "code",
   "execution_count": 22,
   "metadata": {
    "colab": {
     "base_uri": "https://localhost:8080/",
     "height": 453
    },
    "colab_type": "code",
    "id": "AngHVb36QzRc",
    "outputId": "b20d0e71-bb67-43cd-fa82-07c7f296d033"
   },
   "outputs": [
    {
     "data": {
      "image/png": "[encoded data removed]",
      "text/plain": [
       "<matplotlib.figure.Figure at 0x1fc0051ad68>"
      ]
     },
     "metadata": {},
     "output_type": "display_data"
    }
   ],
   "source": [
    "# plots a heatmap\n",
    "sns.heatmap(data[['YEARS_BEGINEXPLUATATION_AVG', 'FLOORSMAX_AVG',\n",
    "       'YEARS_BEGINEXPLUATATION_MODE', 'FLOORSMAX_MODE',\n",
    "       'YEARS_BEGINEXPLUATATION_MEDI', 'FLOORSMAX_MEDI', 'TOTALAREA_MODE',\n",
    "       'EMERGENCYSTATE_MODE']].corr());"
   ]
  },
  {
   "cell_type": "code",
   "execution_count": 23,
   "metadata": {
    "colab": {},
    "colab_type": "code",
    "id": "E5VjHqWpQzRe"
   },
   "outputs": [],
   "source": [
    "# dropping the columns which have high correlation as seen in the above heatmap\n",
    "data.drop(['YEARS_BEGINEXPLUATATION_MODE','YEARS_BEGINEXPLUATATION_MEDI'],inplace=True,axis=1)"
   ]
  },
  {
   "cell_type": "code",
   "execution_count": 24,
   "metadata": {
    "colab": {},
    "colab_type": "code",
    "id": "3yb8ix37QzRi"
   },
   "outputs": [],
   "source": [
    "# drops the columns with high correlation\n",
    "data.drop(['FLOORSMAX_MODE','FLOORSMAX_MEDI'],inplace=True,axis=1)"
   ]
  },
  {
   "cell_type": "code",
   "execution_count": 25,
   "metadata": {
    "colab": {},
    "colab_type": "code",
    "id": "5ljs69NvQzRm",
    "scrolled": true
   },
   "outputs": [],
   "source": [
    "# filling the column with mode value\n",
    "data[\"EMERGENCYSTATE_MODE\"].fillna(\"No\",inplace=True)"
   ]
  },
  {
   "cell_type": "code",
   "execution_count": 26,
   "metadata": {
    "code_folding": [],
    "colab": {
     "base_uri": "https://localhost:8080/",
     "height": 421
    },
    "colab_type": "code",
    "id": "9qTWn7NPQzRo",
    "outputId": "0e7a9957-727d-4398-e116-6944417ec123"
   },
   "outputs": [
    {
     "data": {
      "image/png": "[encoded data removed]",
      "text/plain": [
       "<matplotlib.figure.Figure at 0x1fc08b548d0>"
      ]
     },
     "metadata": {},
     "output_type": "display_data"
    }
   ],
   "source": [
    "sns.heatmap(data[['OBS_30_CNT_SOCIAL_CIRCLE',\n",
    "       'DEF_30_CNT_SOCIAL_CIRCLE', 'OBS_60_CNT_SOCIAL_CIRCLE',\n",
    "       'DEF_60_CNT_SOCIAL_CIRCLE']].corr());"
   ]
  },
  {
   "cell_type": "code",
   "execution_count": 27,
   "metadata": {
    "colab": {},
    "colab_type": "code",
    "id": "LRZ6vnI2QzRr"
   },
   "outputs": [],
   "source": [
    "# drop the columns with multicollinearity as seen from above plot\n",
    "data.drop(['OBS_60_CNT_SOCIAL_CIRCLE'],inplace=True,axis=1)"
   ]
  },
  {
   "cell_type": "code",
   "execution_count": 28,
   "metadata": {
    "colab": {},
    "colab_type": "code",
    "id": "JoLTLfEXQzRt",
    "scrolled": true
   },
   "outputs": [],
   "source": [
    "# Converting the negative days to positive year\n",
    "data.DAYS_LAST_PHONE_CHANGE=data.DAYS_LAST_PHONE_CHANGE*-1/365"
   ]
  },
  {
   "cell_type": "code",
   "execution_count": 29,
   "metadata": {
    "colab": {
     "base_uri": "https://localhost:8080/",
     "height": 50
    },
    "colab_type": "code",
    "id": "wL7jp_dlQzRw",
    "outputId": "fb87b604-cc31-4eab-bb90-238f80a0cff6"
   },
   "outputs": [
    {
     "name": "stdout",
     "output_type": "stream",
     "text": [
      "Mean: 2.6379692831018864\n",
      "Median: 2.073972602739726\n"
     ]
    }
   ],
   "source": [
    "# Calculating the mean and median values\n",
    "print(\"Mean:\",data.DAYS_LAST_PHONE_CHANGE.mean())\n",
    "print(\"Median:\",data.DAYS_LAST_PHONE_CHANGE.median())"
   ]
  },
  {
   "cell_type": "code",
   "execution_count": 30,
   "metadata": {
    "colab": {},
    "colab_type": "code",
    "id": "ywH-S12YQzRy"
   },
   "outputs": [],
   "source": [
    "# Imputing with the help of the median value\n",
    "impute_value_phone=data.DAYS_LAST_PHONE_CHANGE.median()\n",
    "data.DAYS_LAST_PHONE_CHANGE.fillna(value=impute_value_phone,inplace=True)"
   ]
  },
  {
   "cell_type": "code",
   "execution_count": 31,
   "metadata": {
    "colab": {},
    "colab_type": "code",
    "id": "fQ_EpJQXQzR2"
   },
   "outputs": [],
   "source": [
    "# Replacing the anomaly data with na and creating a new dummy variable type column for that\n",
    "data[\"DAYS_EMPLOYED_ANOMALY\"]=(data.DAYS_EMPLOYED==365243).astype(int)\n",
    "data.DAYS_EMPLOYED.replace({365243:np.nan},inplace=True)"
   ]
  },
  {
   "cell_type": "code",
   "execution_count": 32,
   "metadata": {
    "colab": {},
    "colab_type": "code",
    "id": "PYFWGHQMQzR0"
   },
   "outputs": [],
   "source": [
    "# Converting the negative days to positive years\n",
    "data.DAYS_EMPLOYED=data.DAYS_EMPLOYED*-1/365"
   ]
  },
  {
   "cell_type": "code",
   "execution_count": 33,
   "metadata": {
    "code_folding": [],
    "colab": {
     "base_uri": "https://localhost:8080/",
     "height": 446
    },
    "colab_type": "code",
    "id": "XuX50lc1QzR4",
    "outputId": "4c15dfa9-e221-44ae-d0fa-dcf3d6dab039"
   },
   "outputs": [
    {
     "data": {
      "image/png": "[encoded data removed]",
      "text/plain": [
       "<matplotlib.figure.Figure at 0x1fc099e0be0>"
      ]
     },
     "metadata": {},
     "output_type": "display_data"
    }
   ],
   "source": [
    "sns.heatmap(data[['AMT_REQ_CREDIT_BUREAU_HOUR', 'AMT_REQ_CREDIT_BUREAU_DAY',\n",
    "       'AMT_REQ_CREDIT_BUREAU_WEEK', 'AMT_REQ_CREDIT_BUREAU_MON',\n",
    "       'AMT_REQ_CREDIT_BUREAU_QRT', 'AMT_REQ_CREDIT_BUREAU_YEAR','TARGET']].corr());"
   ]
  },
  {
   "cell_type": "code",
   "execution_count": 34,
   "metadata": {
    "code_folding": [],
    "colab": {
     "base_uri": "https://localhost:8080/",
     "height": 235
    },
    "colab_type": "code",
    "id": "9iDJuBnNQzR7",
    "outputId": "811e731e-96fb-4a88-a1a2-f1cb6539da04",
    "scrolled": true
   },
   "outputs": [],
   "source": [
    "# Converts negative days to positive years\n",
    "data.DAYS_REGISTRATION=data.DAYS_REGISTRATION*-1/365\n",
    "data.DAYS_ID_PUBLISH=data.DAYS_ID_PUBLISH*-1/365"
   ]
  },
  {
   "cell_type": "code",
   "execution_count": 39,
   "metadata": {
    "colab": {
     "base_uri": "https://localhost:8080/",
     "height": 34
    },
    "colab_type": "code",
    "id": "-TEvCvhkQzSH",
    "outputId": "56c3b2a0-bc7d-4a2f-b5ed-fcc37467070e"
   },
   "outputs": [
    {
     "name": "stdout",
     "output_type": "stream",
     "text": [
      "4 columns were label encoded.\n"
     ]
    }
   ],
   "source": [
    "le = LabelEncoder()\n",
    "le_count = 0\n",
    "\n",
    "# Iterate through the columns\n",
    "for col in data:\n",
    "    if data[col].dtype == 'object':\n",
    "        # If 2 or fewer unique categories\n",
    "        if len(list(data[col].unique())) <= 2:\n",
    "            # Train on the training data\n",
    "            le.fit(data[col])\n",
    "            # Transform both training and testing data\n",
    "            data[col] = le.transform(data[col])\n",
    "            # Keep track of how many columns were label encoded\n",
    "            le_count += 1\n",
    "            \n",
    "print('%d columns were label encoded.' % le_count)"
   ]
  },
  {
   "cell_type": "code",
   "execution_count": 40,
   "metadata": {
    "colab": {},
    "colab_type": "code",
    "id": "ooTATZ1XQzSJ",
    "scrolled": true
   },
   "outputs": [],
   "source": [
    "# make dummies for the data\n",
    "data=pd.get_dummies(data)"
   ]
  },
  {
   "cell_type": "code",
   "execution_count": null,
   "metadata": {},
   "outputs": [],
   "source": [
    "col_names=data.columns"
   ]
  },
  {
   "cell_type": "code",
   "execution_count": 47,
   "metadata": {
    "colab": {},
    "colab_type": "code",
    "id": "zjdw7mDkQzSL",
    "scrolled": true
   },
   "outputs": [],
   "source": [
    "# declares the MICE imputer\n",
    "im=IterativeImputer()"
   ]
  },
  {
   "cell_type": "code",
   "execution_count": 48,
   "metadata": {
    "colab": {
     "base_uri": "https://localhost:8080/",
     "height": 1000
    },
    "colab_type": "code",
    "id": "qRWelWqIQzSN",
    "outputId": "cfbb11d4-f229-4700-870f-df9fc2c7e757",
    "scrolled": true
   },
   "outputs": [],
   "source": [
    "# transforms our data\n",
    "data=im.fit_transform(data)"
   ]
  },
  {
   "cell_type": "code",
   "execution_count": 49,
   "metadata": {
    "colab": {},
    "colab_type": "code",
    "id": "OJUO200aarg1"
   },
   "outputs": [],
   "source": [
    "# creates a dataframe\n",
    "data=pd.DataFrame(data,columns=col_names)"
   ]
  },
  {
   "cell_type": "code",
   "execution_count": null,
   "metadata": {},
   "outputs": [],
   "source": [
    "# data[\"SK_ID_CURR\"]=SK_ID_CURR_train"
   ]
  },
  {
   "cell_type": "code",
   "execution_count": 51,
   "metadata": {
    "colab": {},
    "colab_type": "code",
    "id": "Lt2i_VEhgpAi"
   },
   "outputs": [],
   "source": [
    "# data.to_csv(\"data.csv\",index=False)"
   ]
  },
  {
   "cell_type": "code",
   "execution_count": 3,
   "metadata": {
    "scrolled": true
   },
   "outputs": [],
   "source": [
    "# data=pd.read_csv(\"data.csv\")"
   ]
  },
  {
   "cell_type": "code",
   "execution_count": 4,
   "metadata": {},
   "outputs": [],
   "source": [
    "# data.drop(\"SK_ID_CURR\",axis=1, inplace=True)"
   ]
  },
  {
   "cell_type": "code",
   "execution_count": 5,
   "metadata": {},
   "outputs": [],
   "source": [
    "# Splits the data into train and test\n",
    "X_train, X_test, y_train,y_test=train_test_split(data[data.columns[data.columns!=\"TARGET\"]],data.TARGET,random_state=42,test_size=.3)"
   ]
  },
  {
   "cell_type": "code",
   "execution_count": 6,
   "metadata": {},
   "outputs": [],
   "source": [
    "# Function to plot ROC_AUC_curve\n",
    "\n",
    "def ROC_AUC_curve(model,model_name=\"Model\"):\n",
    "    # generate a no skill prediction (majority class)\n",
    "    ns_probs = [0 for _ in range(len(y_test))]\n",
    "\n",
    "    # predict probabilities\n",
    "    lr_probs = model.predict_proba(X_test)\n",
    "    # keep probabilities for the positive outcome only\n",
    "    lr_probs = lr_probs[:, 1]\n",
    "    # calculate scores\n",
    "    ns_auc = roc_auc_score(y_test, ns_probs)\n",
    "    lr_auc = roc_auc_score(y_test, lr_probs)\n",
    "    # summarize scores\n",
    "    print('No Skill: ROC AUC=%.3f' % (ns_auc))\n",
    "    print('Decision Tree: ROC AUC=%.3f' % (lr_auc))\n",
    "    # calculate roc curves\n",
    "    ns_fpr, ns_tpr, _ = roc_curve(y_test, ns_probs)\n",
    "    lr_fpr, lr_tpr, _ = roc_curve(y_test, lr_probs)\n",
    "    # plot the roc curve for the model\n",
    "    plt.figure(figsize=(8,4))\n",
    "    plt.plot(ns_fpr, ns_tpr, linestyle='--', label='No Skill')\n",
    "    plt.plot(lr_fpr, lr_tpr, marker='.', label=model_name)\n",
    "    # axis labels\n",
    "    plt.xlabel('False Positive Rate')\n",
    "    plt.ylabel('True Positive Rate')\n",
    "    # show the legend\n",
    "    plt.legend()\n",
    "    # show the plot\n",
    "    plt.show()"
   ]
  },
  {
   "cell_type": "markdown",
   "metadata": {
    "colab_type": "text",
    "id": "YQUgg1t3QzST"
   },
   "source": [
    "# MODELING"
   ]
  },
  {
   "cell_type": "markdown",
   "metadata": {},
   "source": [
    "## Light GBM"
   ]
  },
  {
   "cell_type": "markdown",
   "metadata": {},
   "source": [
    "### Base Model"
   ]
  },
  {
   "cell_type": "code",
   "execution_count": 7,
   "metadata": {},
   "outputs": [],
   "source": [
    "lgb=LGBMClassifier(random_state=42)"
   ]
  },
  {
   "cell_type": "code",
   "execution_count": 7,
   "metadata": {
    "scrolled": true
   },
   "outputs": [
    {
     "data": {
      "text/plain": [
       "LGBMClassifier(boosting_type='gbdt', class_weight=None, colsample_bytree=1.0,\n",
       "        importance_type='split', learning_rate=0.1, max_depth=-1,\n",
       "        min_child_samples=20, min_child_weight=0.001, min_split_gain=0.0,\n",
       "        n_estimators=100, n_jobs=-1, num_leaves=31, objective=None,\n",
       "        random_state=42, reg_alpha=0.0, reg_lambda=0.0, silent=True,\n",
       "        subsample=1.0, subsample_for_bin=200000, subsample_freq=0)"
      ]
     },
     "execution_count": 7,
     "metadata": {},
     "output_type": "execute_result"
    }
   ],
   "source": [
    "# Fits the lgb model on train dataset\n",
    "lgb.fit(X_train,y_train)"
   ]
  },
  {
   "cell_type": "code",
   "execution_count": 8,
   "metadata": {},
   "outputs": [
    {
     "data": {
      "text/plain": [
       "0.8030268075104705"
      ]
     },
     "execution_count": 8,
     "metadata": {},
     "output_type": "execute_result"
    }
   ],
   "source": [
    "# ROC AUC score on train data\n",
    "roc_auc_score(y_train,y_score=lgb.predict_proba(np.array(X_train))[:,1])"
   ]
  },
  {
   "cell_type": "code",
   "execution_count": 9,
   "metadata": {},
   "outputs": [
    {
     "data": {
      "text/plain": [
       "0.7605175708233542"
      ]
     },
     "execution_count": 9,
     "metadata": {},
     "output_type": "execute_result"
    }
   ],
   "source": [
    "# ROC AUC on test data\n",
    "roc_auc_score(y_test,y_score=lgb.predict_proba(np.array(X_test))[:,1])"
   ]
  },
  {
   "cell_type": "code",
   "execution_count": 10,
   "metadata": {},
   "outputs": [
    {
     "name": "stdout",
     "output_type": "stream",
     "text": [
      "              precision    recall  f1-score   support\n",
      "\n",
      "         0.0       0.92      1.00      0.96     84841\n",
      "         1.0       0.52      0.02      0.04      7413\n",
      "\n",
      "   micro avg       0.92      0.92      0.92     92254\n",
      "   macro avg       0.72      0.51      0.50     92254\n",
      "weighted avg       0.89      0.92      0.88     92254\n",
      "\n"
     ]
    }
   ],
   "source": [
    "print(classification_report(y_test,y_pred=lgb.predict(np.array(X_test))))"
   ]
  },
  {
   "cell_type": "markdown",
   "metadata": {},
   "source": [
    "### Tuned Model"
   ]
  },
  {
   "cell_type": "code",
   "execution_count": 9,
   "metadata": {},
   "outputs": [],
   "source": [
    "lgb=LGBMClassifier(random_state=42)"
   ]
  },
  {
   "cell_type": "raw",
   "metadata": {},
   "source": [
    "# Create a grid search for tuning the model\n",
    "#lgb_params={'n_estimators': [10000],\n",
    "              'reg_lambda':[0.8],\n",
    "              'reg_alpha': [.1,1],\n",
    "             'learning_rate':[.02],\"class_weight\":[{1:1,0:1},{1:11,0:1}]}"
   ]
  },
  {
   "cell_type": "raw",
   "metadata": {},
   "source": [
    "# Create the grid search \n",
    "#lgb_grid_search=GridSearchCV(cv=6,estimator=lgb,scoring=\"recall\",n_jobs=-1,verbose=1,param_grid=lgb_params)"
   ]
  },
  {
   "cell_type": "raw",
   "metadata": {
    "scrolled": true
   },
   "source": [
    "# Fit the grid search on train data\n",
    "#lgb_grid_search.fit(X_train,y_train)"
   ]
  },
  {
   "cell_type": "code",
   "execution_count": null,
   "metadata": {},
   "outputs": [],
   "source": [
    "# Running on best model"
   ]
  },
  {
   "cell_type": "code",
   "execution_count": 11,
   "metadata": {},
   "outputs": [],
   "source": [
    "lgb=LGBMClassifier(random_state=42,n_estimators=10000, reg_lambda=0.8,reg_alpha=1,learning_rate=.02)"
   ]
  },
  {
   "cell_type": "code",
   "execution_count": 13,
   "metadata": {},
   "outputs": [
    {
     "data": {
      "text/plain": [
       "LGBMClassifier(boosting_type='gbdt', class_weight=None, colsample_bytree=1.0,\n",
       "        importance_type='split', learning_rate=0.02, max_depth=-1,\n",
       "        min_child_samples=20, min_child_weight=0.001, min_split_gain=0.0,\n",
       "        n_estimators=10000, n_jobs=-1, num_leaves=31, objective=None,\n",
       "        random_state=42, reg_alpha=1, reg_lambda=0.8, silent=True,\n",
       "        subsample=1.0, subsample_for_bin=200000, subsample_freq=0)"
      ]
     },
     "execution_count": 13,
     "metadata": {},
     "output_type": "execute_result"
    }
   ],
   "source": [
    "lgb.fit(X_train,y_train)"
   ]
  },
  {
   "cell_type": "code",
   "execution_count": 14,
   "metadata": {},
   "outputs": [
    {
     "name": "stdout",
     "output_type": "stream",
     "text": [
      "No Skill: ROC AUC=0.500\n",
      "Decision Tree: ROC AUC=0.779\n"
     ]
    },
    {
     "data": {
      "image/png": "[encoded data removed]",
      "text/plain": [
       "<matplotlib.figure.Figure at 0x259d8c4d710>"
      ]
     },
     "metadata": {},
     "output_type": "display_data"
    }
   ],
   "source": [
    "ROC_AUC_curve(model=lgb,model_name=\"Light GBM\")"
   ]
  },
  {
   "cell_type": "code",
   "execution_count": 15,
   "metadata": {},
   "outputs": [
    {
     "name": "stdout",
     "output_type": "stream",
     "text": [
      "Training Accuracy Score: 0.950905197043534\n",
      "Testing Accuracy Score: 0.9207947622867301\n"
     ]
    }
   ],
   "source": [
    "print(\"Training Accuracy Score:\",accuracy_score(y_train,y_pred=lgb.predict(X_train)))\n",
    "print(\"Testing Accuracy Score:\",accuracy_score(y_test,y_pred=lgb.predict(X_test)))"
   ]
  },
  {
   "cell_type": "code",
   "execution_count": 16,
   "metadata": {},
   "outputs": [
    {
     "name": "stdout",
     "output_type": "stream",
     "text": [
      "Testing Report\n",
      "              precision    recall  f1-score   support\n",
      "\n",
      "         0.0       0.92      1.00      0.96     84841\n",
      "         1.0       0.58      0.05      0.09      7413\n",
      "\n",
      "   micro avg       0.92      0.92      0.92     92254\n",
      "   macro avg       0.75      0.52      0.53     92254\n",
      "weighted avg       0.90      0.92      0.89     92254\n",
      "\n"
     ]
    }
   ],
   "source": [
    "print(\"Testing Report\")\n",
    "print(classification_report(y_test,y_pred=lgb.predict(X_test)))"
   ]
  },
  {
   "cell_type": "code",
   "execution_count": 21,
   "metadata": {},
   "outputs": [
    {
     "data": {
      "image/png": "[encoded data removed]",
      "text/plain": [
       "<matplotlib.figure.Figure at 0x2598035e470>"
      ]
     },
     "metadata": {},
     "output_type": "display_data"
    }
   ],
   "source": [
    "plt.figure(figsize=(30,5))\n",
    "feature_importance_rm=OrderedDict(sorted(zip(data.columns,lgb.feature_importances_),reverse=True,key=lambda x:x[1]))\n",
    "sns.barplot(list(feature_importance_rm.keys())[:10],list(feature_importance_rm.values())[:10]);"
   ]
  },
  {
   "cell_type": "markdown",
   "metadata": {},
   "source": [
    "## Logistic Regression"
   ]
  },
  {
   "cell_type": "markdown",
   "metadata": {},
   "source": [
    "### Base Model"
   ]
  },
  {
   "cell_type": "code",
   "execution_count": 15,
   "metadata": {},
   "outputs": [],
   "source": [
    "from sklearn.preprocessing import StandardScaler"
   ]
  },
  {
   "cell_type": "code",
   "execution_count": 16,
   "metadata": {},
   "outputs": [],
   "source": [
    "# Scaler scales the data using standard deviation\n",
    "scaler=StandardScaler()"
   ]
  },
  {
   "cell_type": "code",
   "execution_count": 17,
   "metadata": {},
   "outputs": [],
   "source": [
    "# transforming the train data\n",
    "X_train=scaler.fit_transform(X_train)"
   ]
  },
  {
   "cell_type": "code",
   "execution_count": 18,
   "metadata": {},
   "outputs": [],
   "source": [
    "# transforming the test data\n",
    "X_test=scaler.transform(X_test)"
   ]
  },
  {
   "cell_type": "code",
   "execution_count": 19,
   "metadata": {},
   "outputs": [],
   "source": [
    "from sklearn.linear_model import LogisticRegression"
   ]
  },
  {
   "cell_type": "code",
   "execution_count": 21,
   "metadata": {},
   "outputs": [],
   "source": [
    "lr=LogisticRegression(random_state=42)"
   ]
  },
  {
   "cell_type": "code",
   "execution_count": 22,
   "metadata": {},
   "outputs": [
    {
     "name": "stderr",
     "output_type": "stream",
     "text": [
      "D:\\Anaconda\\envs\\tensorflow\\lib\\site-packages\\sklearn\\linear_model\\logistic.py:432: FutureWarning: Default solver will be changed to 'lbfgs' in 0.22. Specify a solver to silence this warning.\n",
      "  FutureWarning)\n"
     ]
    },
    {
     "data": {
      "text/plain": [
       "LogisticRegression(C=1.0, class_weight=None, dual=False, fit_intercept=True,\n",
       "          intercept_scaling=1, max_iter=100, multi_class='warn',\n",
       "          n_jobs=None, penalty='l2', random_state=42, solver='warn',\n",
       "          tol=0.0001, verbose=0, warm_start=False)"
      ]
     },
     "execution_count": 22,
     "metadata": {},
     "output_type": "execute_result"
    }
   ],
   "source": [
    "# Fitting logistic regression \n",
    "lr.fit(X_train,y_train)"
   ]
  },
  {
   "cell_type": "code",
   "execution_count": 55,
   "metadata": {},
   "outputs": [
    {
     "name": "stdout",
     "output_type": "stream",
     "text": [
      "No Skill: ROC AUC=0.500\n",
      "Decision Tree: ROC AUC=0.746\n"
     ]
    },
    {
     "data": {
      "image/png": "[encoded data removed]",
      "text/plain": [
       "<matplotlib.figure.Figure at 0x2581a674048>"
      ]
     },
     "metadata": {},
     "output_type": "display_data"
    }
   ],
   "source": [
    "ROC_AUC_curve(model=lr,model_name=\"Logistic Regression Base\")"
   ]
  },
  {
   "cell_type": "code",
   "execution_count": 53,
   "metadata": {},
   "outputs": [
    {
     "name": "stdout",
     "output_type": "stream",
     "text": [
      "Training Accuracy Score: 0.9192174935077605\n",
      "Testing Accuracy Score: 0.9196999588093742\n"
     ]
    }
   ],
   "source": [
    "print(\"Training Accuracy Score:\",accuracy_score(y_train,y_pred=lr.predict(X_train)))\n",
    "print(\"Testing Accuracy Score:\",accuracy_score(y_test,y_pred=lr.predict(X_test)))"
   ]
  },
  {
   "cell_type": "code",
   "execution_count": 52,
   "metadata": {},
   "outputs": [
    {
     "name": "stdout",
     "output_type": "stream",
     "text": [
      "Training Report\n",
      "              precision    recall  f1-score   support\n",
      "\n",
      "         0.0       0.92      1.00      0.96    197845\n",
      "         1.0       0.53      0.01      0.02     17412\n",
      "\n",
      "   micro avg       0.92      0.92      0.92    215257\n",
      "   macro avg       0.72      0.51      0.49    215257\n",
      "weighted avg       0.89      0.92      0.88    215257\n",
      "\n",
      "Testing Report\n",
      "              precision    recall  f1-score   support\n",
      "\n",
      "         0.0       0.92      1.00      0.96     84841\n",
      "         1.0       0.51      0.01      0.03      7413\n",
      "\n",
      "   micro avg       0.92      0.92      0.92     92254\n",
      "   macro avg       0.72      0.51      0.49     92254\n",
      "weighted avg       0.89      0.92      0.88     92254\n",
      "\n"
     ]
    }
   ],
   "source": [
    "print(\"Training Report\")\n",
    "print(classification_report(y_train,y_pred=lr.predict(X_train)))\n",
    "print(\"Testing Report\")\n",
    "print(classification_report(y_test,y_pred=lr.predict(X_test)))"
   ]
  },
  {
   "cell_type": "markdown",
   "metadata": {},
   "source": [
    "### Tuned Model"
   ]
  },
  {
   "cell_type": "code",
   "execution_count": 34,
   "metadata": {},
   "outputs": [],
   "source": [
    "param_grid_lr={'penalty':['l1','l2'],'class_weight':[{1:1,0:1},{1:5,0:1},{1:11,0:1}],'C':[.001,.1,1,.01]}"
   ]
  },
  {
   "cell_type": "code",
   "execution_count": 35,
   "metadata": {},
   "outputs": [],
   "source": [
    "lr_grid_search=GridSearchCV(cv=6,estimator=lr,scoring=\"recall\",n_jobs=-1,verbose=1,param_grid=param_grid_lr)"
   ]
  },
  {
   "cell_type": "code",
   "execution_count": 36,
   "metadata": {
    "scrolled": false
   },
   "outputs": [
    {
     "name": "stdout",
     "output_type": "stream",
     "text": [
      "Fitting 6 folds for each of 24 candidates, totalling 144 fits\n"
     ]
    },
    {
     "name": "stderr",
     "output_type": "stream",
     "text": [
      "[Parallel(n_jobs=-1)]: Using backend LokyBackend with 4 concurrent workers.\n",
      "[Parallel(n_jobs=-1)]: Done  42 tasks      | elapsed: 50.2min\n",
      "D:\\Anaconda\\envs\\tensorflow\\lib\\site-packages\\sklearn\\externals\\joblib\\externals\\loky\\process_executor.py:700: UserWarning: A worker stopped while some jobs were given to the executor. This can be caused by a too short worker timeout or by a memory leak.\n",
      "  \"timeout or by a memory leak.\", UserWarning\n",
      "D:\\Anaconda\\envs\\tensorflow\\lib\\site-packages\\sklearn\\externals\\joblib\\externals\\loky\\process_executor.py:700: UserWarning: A worker stopped while some jobs were given to the executor. This can be caused by a too short worker timeout or by a memory leak.\n",
      "  \"timeout or by a memory leak.\", UserWarning\n",
      "D:\\Anaconda\\envs\\tensorflow\\lib\\site-packages\\sklearn\\externals\\joblib\\externals\\loky\\process_executor.py:700: UserWarning: A worker stopped while some jobs were given to the executor. This can be caused by a too short worker timeout or by a memory leak.\n",
      "  \"timeout or by a memory leak.\", UserWarning\n",
      "D:\\Anaconda\\envs\\tensorflow\\lib\\site-packages\\sklearn\\externals\\joblib\\externals\\loky\\process_executor.py:700: UserWarning: A worker stopped while some jobs were given to the executor. This can be caused by a too short worker timeout or by a memory leak.\n",
      "  \"timeout or by a memory leak.\", UserWarning\n",
      "[Parallel(n_jobs=-1)]: Done 144 out of 144 | elapsed: 348.7min finished\n",
      "D:\\Anaconda\\envs\\tensorflow\\lib\\site-packages\\sklearn\\linear_model\\logistic.py:432: FutureWarning: Default solver will be changed to 'lbfgs' in 0.22. Specify a solver to silence this warning.\n",
      "  FutureWarning)\n"
     ]
    },
    {
     "data": {
      "text/plain": [
       "GridSearchCV(cv=6, error_score='raise-deprecating',\n",
       "       estimator=LogisticRegression(C=1.0, class_weight=None, dual=False, fit_intercept=True,\n",
       "          intercept_scaling=1, max_iter=100, multi_class='warn',\n",
       "          n_jobs=None, penalty='l2', random_state=42, solver='warn',\n",
       "          tol=0.0001, verbose=0, warm_start=False),\n",
       "       fit_params=None, iid='warn', n_jobs=-1,\n",
       "       param_grid={'penalty': ['l1', 'l2'], 'class_weight': [{0: 1, 1: 1}, {0: 1, 1: 2}, {0: 1, 1: 11}], 'C': [0.001, 0.1, 1, 0.01]},\n",
       "       pre_dispatch='2*n_jobs', refit=True, return_train_score='warn',\n",
       "       scoring='recall', verbose=1)"
      ]
     },
     "execution_count": 36,
     "metadata": {},
     "output_type": "execute_result"
    }
   ],
   "source": [
    "lr_grid_search.fit(X_train,y_train)"
   ]
  },
  {
   "cell_type": "code",
   "execution_count": 105,
   "metadata": {},
   "outputs": [
    {
     "data": {
      "text/plain": [
       "['logistic_regression_tuned.sav']"
      ]
     },
     "execution_count": 105,
     "metadata": {},
     "output_type": "execute_result"
    }
   ],
   "source": [
    "#joblib.dump(lr_grid_search.best_estimator_,\"logistic_regression_tuned.sav\")"
   ]
  },
  {
   "cell_type": "code",
   "execution_count": 107,
   "metadata": {},
   "outputs": [],
   "source": [
    "#lr_grid_search=joblib.load(\"logistic_regression_tuned.sav\")"
   ]
  },
  {
   "cell_type": "code",
   "execution_count": 108,
   "metadata": {},
   "outputs": [
    {
     "name": "stdout",
     "output_type": "stream",
     "text": [
      "No Skill: ROC AUC=0.500\n",
      "Decision Tree: ROC AUC=0.742\n"
     ]
    },
    {
     "data": {
      "image/png": "[encoded data removed]",
      "text/plain": [
       "<matplotlib.figure.Figure at 0x2581a548470>"
      ]
     },
     "metadata": {},
     "output_type": "display_data"
    }
   ],
   "source": [
    "ROC_AUC_curve(model=lr_grid_search,model_name=\"Logistic Regression Tuned\")"
   ]
  },
  {
   "cell_type": "code",
   "execution_count": 109,
   "metadata": {},
   "outputs": [
    {
     "name": "stdout",
     "output_type": "stream",
     "text": [
      "Training Accuracy Score: 0.6921726122727716\n",
      "Testing Accuracy Score: 0.6909944284258677\n"
     ]
    }
   ],
   "source": [
    "print(\"Training Accuracy Score:\",accuracy_score(y_train,y_pred=lr_grid_search.predict(X_train)))\n",
    "print(\"Testing Accuracy Score:\",accuracy_score(y_test,y_pred=lr_grid_search.predict(X_test)))"
   ]
  },
  {
   "cell_type": "code",
   "execution_count": 110,
   "metadata": {},
   "outputs": [
    {
     "name": "stdout",
     "output_type": "stream",
     "text": [
      "Training Report\n",
      "              precision    recall  f1-score   support\n",
      "\n",
      "         0.0       0.96      0.69      0.81    197845\n",
      "         1.0       0.16      0.66      0.26     17412\n",
      "\n",
      "   micro avg       0.69      0.69      0.69    215257\n",
      "   macro avg       0.56      0.68      0.53    215257\n",
      "weighted avg       0.89      0.69      0.76    215257\n",
      "\n",
      "Testing Report\n",
      "              precision    recall  f1-score   support\n",
      "\n",
      "         0.0       0.96      0.69      0.81     84841\n",
      "         1.0       0.16      0.66      0.26      7413\n",
      "\n",
      "   micro avg       0.69      0.69      0.69     92254\n",
      "   macro avg       0.56      0.68      0.53     92254\n",
      "weighted avg       0.89      0.69      0.76     92254\n",
      "\n"
     ]
    }
   ],
   "source": [
    "print(\"Training Report\")\n",
    "print(classification_report(y_train,y_pred=lr_grid_search.predict(X_train)))\n",
    "print(\"Testing Report\")\n",
    "print(classification_report(y_test,y_pred=lr_grid_search.predict(X_test)))"
   ]
  },
  {
   "cell_type": "code",
   "execution_count": 117,
   "metadata": {
    "scrolled": true
   },
   "outputs": [],
   "source": [
    "lr_coeff=sorted(zip(data.columns,lr_grid_search.coef_[0]),reverse=True,key=lambda x:x[1])"
   ]
  },
  {
   "cell_type": "code",
   "execution_count": 118,
   "metadata": {},
   "outputs": [
    {
     "data": {
      "text/plain": [
       "[('REGION_RATING_CLIENT', 0.08332198173923872),\n",
       " ('AMT_CREDIT', 0.07605982071454674),\n",
       " ('NAME_EDUCATION_TYPE_Lower secondary', 0.07445527108116658),\n",
       " ('FLAG_DOCUMENT_2', 0.0670548968992675),\n",
       " ('OBS_30_CNT_SOCIAL_CIRCLE', 0.04465116823351332),\n",
       " ('LIVE_REGION_NOT_WORK_REGION', 0.04386619041900539),\n",
       " ('CODE_GENDER_F', 0.03920000375958995),\n",
       " ('DAYS_BIRTH_(25.0, 30.0]', 0.033501576721455886),\n",
       " ('DAYS_BIRTH_(30.0, 35.0]', 0.031842692796370885),\n",
       " ('DEF_30_CNT_SOCIAL_CIRCLE', 0.030676931141811508)]"
      ]
     },
     "execution_count": 118,
     "metadata": {},
     "output_type": "execute_result"
    }
   ],
   "source": [
    "# Top 10 important variables as given by LR classifier\n",
    "lr_coeff[:10]"
   ]
  },
  {
   "cell_type": "markdown",
   "metadata": {},
   "source": [
    "## Random Forest"
   ]
  },
  {
   "cell_type": "markdown",
   "metadata": {},
   "source": [
    "### Base Model"
   ]
  },
  {
   "cell_type": "code",
   "execution_count": 58,
   "metadata": {},
   "outputs": [],
   "source": [
    "from sklearn.ensemble import RandomForestClassifier"
   ]
  },
  {
   "cell_type": "code",
   "execution_count": 63,
   "metadata": {},
   "outputs": [],
   "source": [
    "rm=RandomForestClassifier(random_state=42)"
   ]
  },
  {
   "cell_type": "code",
   "execution_count": 64,
   "metadata": {},
   "outputs": [
    {
     "name": "stderr",
     "output_type": "stream",
     "text": [
      "D:\\Anaconda\\envs\\tensorflow\\lib\\site-packages\\sklearn\\ensemble\\forest.py:248: FutureWarning: The default value of n_estimators will change from 10 in version 0.20 to 100 in 0.22.\n",
      "  \"10 in version 0.20 to 100 in 0.22.\", FutureWarning)\n"
     ]
    },
    {
     "data": {
      "text/plain": [
       "RandomForestClassifier(bootstrap=True, class_weight=None, criterion='gini',\n",
       "            max_depth=None, max_features='auto', max_leaf_nodes=None,\n",
       "            min_impurity_decrease=0.0, min_impurity_split=None,\n",
       "            min_samples_leaf=1, min_samples_split=2,\n",
       "            min_weight_fraction_leaf=0.0, n_estimators=10, n_jobs=None,\n",
       "            oob_score=False, random_state=42, verbose=0, warm_start=False)"
      ]
     },
     "execution_count": 64,
     "metadata": {},
     "output_type": "execute_result"
    }
   ],
   "source": [
    "rm.fit(X_train,y_train)"
   ]
  },
  {
   "cell_type": "code",
   "execution_count": 68,
   "metadata": {},
   "outputs": [
    {
     "name": "stdout",
     "output_type": "stream",
     "text": [
      "No Skill: ROC AUC=0.500\n",
      "Decision Tree: ROC AUC=0.639\n"
     ]
    },
    {
     "data": {
      "image/png": "[encoded data removed]",
      "text/plain": [
       "<matplotlib.figure.Figure at 0x25819fadb38>"
      ]
     },
     "metadata": {},
     "output_type": "display_data"
    }
   ],
   "source": [
    "ROC_AUC_curve(model=rm,model_name=\"Random Forest Base\")"
   ]
  },
  {
   "cell_type": "code",
   "execution_count": 69,
   "metadata": {},
   "outputs": [
    {
     "name": "stdout",
     "output_type": "stream",
     "text": [
      "Training Accuracy Score: 0.9851294034572627\n",
      "Testing Accuracy Score: 0.9189737030372667\n"
     ]
    }
   ],
   "source": [
    "print(\"Training Accuracy Score:\",accuracy_score(y_train,y_pred=rm.predict(X_train)))\n",
    "print(\"Testing Accuracy Score:\",accuracy_score(y_test,y_pred=rm.predict(X_test)))"
   ]
  },
  {
   "cell_type": "code",
   "execution_count": 70,
   "metadata": {},
   "outputs": [
    {
     "name": "stdout",
     "output_type": "stream",
     "text": [
      "Training Report\n",
      "              precision    recall  f1-score   support\n",
      "\n",
      "         0.0       0.98      1.00      0.99    197845\n",
      "         1.0       1.00      0.82      0.90     17412\n",
      "\n",
      "   micro avg       0.99      0.99      0.99    215257\n",
      "   macro avg       0.99      0.91      0.95    215257\n",
      "weighted avg       0.99      0.99      0.98    215257\n",
      "\n",
      "Testing Report\n",
      "              precision    recall  f1-score   support\n",
      "\n",
      "         0.0       0.92      1.00      0.96     84841\n",
      "         1.0       0.36      0.01      0.02      7413\n",
      "\n",
      "   micro avg       0.92      0.92      0.92     92254\n",
      "   macro avg       0.64      0.50      0.49     92254\n",
      "weighted avg       0.88      0.92      0.88     92254\n",
      "\n"
     ]
    }
   ],
   "source": [
    "print(\"Training Report\")\n",
    "print(classification_report(y_train,y_pred=rm.predict(X_train)))\n",
    "print(\"Testing Report\")\n",
    "print(classification_report(y_test,y_pred=rm.predict(X_test)))"
   ]
  },
  {
   "cell_type": "markdown",
   "metadata": {},
   "source": [
    "### Tuned Model"
   ]
  },
  {
   "cell_type": "code",
   "execution_count": 75,
   "metadata": {},
   "outputs": [],
   "source": [
    "param_grid_rm={'max_depth':[25,50],'class_weight':[{1:1,0:1},{1:5,0:1},{1:11,0:1},{1:17,0:1}],\n",
    "               'min_samples_split':[100,50,25],'n_estimators':[100,500]}"
   ]
  },
  {
   "cell_type": "code",
   "execution_count": 76,
   "metadata": {},
   "outputs": [],
   "source": [
    "rm_grid_search=GridSearchCV(cv=6,estimator=rm,scoring=\"recall\",n_jobs=-1,verbose=1,param_grid=param_grid_rm)"
   ]
  },
  {
   "cell_type": "code",
   "execution_count": 77,
   "metadata": {},
   "outputs": [
    {
     "name": "stdout",
     "output_type": "stream",
     "text": [
      "Fitting 6 folds for each of 48 candidates, totalling 288 fits\n"
     ]
    },
    {
     "name": "stderr",
     "output_type": "stream",
     "text": [
      "[Parallel(n_jobs=-1)]: Using backend LokyBackend with 4 concurrent workers.\n",
      "[Parallel(n_jobs=-1)]: Done  42 tasks      | elapsed: 49.0min\n",
      "[Parallel(n_jobs=-1)]: Done 192 tasks      | elapsed: 239.8min\n",
      "[Parallel(n_jobs=-1)]: Done 288 out of 288 | elapsed: 353.1min finished\n"
     ]
    },
    {
     "data": {
      "text/plain": [
       "GridSearchCV(cv=6, error_score='raise-deprecating',\n",
       "       estimator=RandomForestClassifier(bootstrap=True, class_weight=None, criterion='gini',\n",
       "            max_depth=None, max_features='auto', max_leaf_nodes=None,\n",
       "            min_impurity_decrease=0.0, min_impurity_split=None,\n",
       "            min_samples_leaf=1, min_samples_split=2,\n",
       "            min_weight_fraction_leaf=0.0, n_estimators=10, n_jobs=None,\n",
       "            oob_score=False, random_state=42, verbose=0, warm_start=False),\n",
       "       fit_params=None, iid='warn', n_jobs=-1,\n",
       "       param_grid={'n_estimators': [100, 500], 'min_samples_split': [100, 50, 25], 'class_weight': [{0: 1, 1: 1}, {0: 1, 1: 5}, {0: 1, 1: 11}, {0: 1, 1: 17}], 'max_depth': [25, 50]},\n",
       "       pre_dispatch='2*n_jobs', refit=True, return_train_score='warn',\n",
       "       scoring='recall', verbose=1)"
      ]
     },
     "execution_count": 77,
     "metadata": {},
     "output_type": "execute_result"
    }
   ],
   "source": [
    "rm_grid_search.fit(X_train,y_train)"
   ]
  },
  {
   "cell_type": "code",
   "execution_count": 98,
   "metadata": {},
   "outputs": [],
   "source": [
    "#rm_grid_search=joblib.load(\"random_forest_tuned.sav\")"
   ]
  },
  {
   "cell_type": "code",
   "execution_count": 101,
   "metadata": {},
   "outputs": [
    {
     "name": "stdout",
     "output_type": "stream",
     "text": [
      "No Skill: ROC AUC=0.500\n",
      "Decision Tree: ROC AUC=0.747\n"
     ]
    },
    {
     "data": {
      "image/png": "[encoded data removed]",
      "text/plain": [
       "<matplotlib.figure.Figure at 0x2581a3e69e8>"
      ]
     },
     "metadata": {},
     "output_type": "display_data"
    }
   ],
   "source": [
    "ROC_AUC_curve(model=rm_grid_search,model_name=\"Random Forest Base\")"
   ]
  },
  {
   "cell_type": "code",
   "execution_count": 102,
   "metadata": {},
   "outputs": [
    {
     "name": "stdout",
     "output_type": "stream",
     "text": [
      "Training Accuracy Score: 0.826927811871391\n",
      "Testing Accuracy Score: 0.773310642356971\n"
     ]
    }
   ],
   "source": [
    "print(\"Training Accuracy Score:\",accuracy_score(y_train,y_pred=rm_grid_search.predict(X_train)))\n",
    "print(\"Testing Accuracy Score:\",accuracy_score(y_test,y_pred=rm_grid_search.predict(X_test)))"
   ]
  },
  {
   "cell_type": "code",
   "execution_count": 87,
   "metadata": {},
   "outputs": [
    {
     "data": {
      "text/plain": [
       "['random_forest_tuned.sav']"
      ]
     },
     "execution_count": 87,
     "metadata": {},
     "output_type": "execute_result"
    }
   ],
   "source": [
    "joblib.dump(rm_grid_search.best_estimator_,\"random_forest_tuned.sav\")"
   ]
  },
  {
   "cell_type": "code",
   "execution_count": 103,
   "metadata": {},
   "outputs": [
    {
     "name": "stdout",
     "output_type": "stream",
     "text": [
      "Testing Report\n",
      "              precision    recall  f1-score   support\n",
      "\n",
      "         0.0       0.95      0.79      0.87     84841\n",
      "         1.0       0.19      0.54      0.28      7413\n",
      "\n",
      "   micro avg       0.77      0.77      0.77     92254\n",
      "   macro avg       0.57      0.67      0.57     92254\n",
      "weighted avg       0.89      0.77      0.82     92254\n",
      "\n"
     ]
    }
   ],
   "source": [
    "print(\"Testing Report\")\n",
    "print(classification_report(y_test,y_pred=rm_grid_search.predict(X_test)))"
   ]
  },
  {
   "cell_type": "markdown",
   "metadata": {},
   "source": [
    "Feature Importance from our Random Forest Model"
   ]
  },
  {
   "cell_type": "code",
   "execution_count": 100,
   "metadata": {},
   "outputs": [
    {
     "data": {
      "image/png": "[encoded data removed]",
      "text/plain": [
       "<matplotlib.figure.Figure at 0x2581a399908>"
      ]
     },
     "metadata": {},
     "output_type": "display_data"
    }
   ],
   "source": [
    "#if using saved model\n",
    "plt.figure(figsize=(30,5))\n",
    "feature_importance_rm=OrderedDict(sorted(zip(data.columns,rm_grid_search.feature_importances_),reverse=True,key=lambda x:x[1]))\n",
    "sns.barplot(list(feature_importance_rm.keys())[:10],list(feature_importance_rm.values())[:10]);"
   ]
  },
  {
   "cell_type": "code",
   "execution_count": null,
   "metadata": {},
   "outputs": [],
   "source": [
    "#if using after grid search directly\n",
    "# plt.figure(figsize=(30,5))\n",
    "# feature_importance_rm=OrderedDict(sorted(zip(data.columns,rm_grid_search.best_estimator_.feature_importances_),reverse=True,key=lambda x:x[1]))\n",
    "# sns.barplot(list(feature_importance_rm.keys())[:10],list(feature_importance_rm.values())[:10]);"
   ]
  }
 ],
 "metadata": {
  "colab": {
   "name": "Untitled.ipynb",
   "provenance": []
  },
  "kernelspec": {
   "display_name": "Python 3",
   "language": "python",
   "name": "python3"
  },
  "language_info": {
   "codemirror_mode": {
    "name": "ipython",
    "version": 3
   },
   "file_extension": ".py",
   "mimetype": "text/x-python",
   "name": "python",
   "nbconvert_exporter": "python",
   "pygments_lexer": "ipython3",
   "version": "3.5.4"
  }
 },
 "nbformat": 4,
 "nbformat_minor": 1
}
